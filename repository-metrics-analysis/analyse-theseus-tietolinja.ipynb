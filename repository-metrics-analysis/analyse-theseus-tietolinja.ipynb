{
 "cells": [
  {
   "attachments": {},
   "cell_type": "markdown",
   "metadata": {},
   "source": [
    "# Analysis of Annif suggestions in Theseus repository    \n",
    "\n",
    "## Install and import packages\n",
    "In VS Code the simplest way to install packages in correct venv is to do it in the notebook."
   ]
  },
  {
   "cell_type": "code",
   "execution_count": 1,
   "metadata": {},
   "outputs": [
    {
     "name": "stdout",
     "output_type": "stream",
     "text": [
      "Requirement already satisfied: pip in ./.venv/lib/python3.8/site-packages (23.0.1)\n",
      "Requirement already satisfied: setuptools in ./.venv/lib/python3.8/site-packages (67.6.1)\n",
      "Requirement already satisfied: wheel in ./.venv/lib/python3.8/site-packages (0.40.0)\n",
      "Requirement already satisfied: ndjson in ./.venv/lib/python3.8/site-packages (0.3.1)\n",
      "Requirement already satisfied: pandas in ./.venv/lib/python3.8/site-packages (1.5.3)\n",
      "Requirement already satisfied: rdflib in ./.venv/lib/python3.8/site-packages (6.3.1)\n",
      "Requirement already satisfied: matplotlib in ./.venv/lib/python3.8/site-packages (3.7.1)\n",
      "Requirement already satisfied: jinja2 in ./.venv/lib/python3.8/site-packages (3.1.2)\n",
      "Requirement already satisfied: pytz>=2020.1 in ./.venv/lib/python3.8/site-packages (from pandas) (2022.7.1)\n",
      "Requirement already satisfied: python-dateutil>=2.8.1 in ./.venv/lib/python3.8/site-packages (from pandas) (2.8.2)\n",
      "Requirement already satisfied: numpy>=1.20.3 in ./.venv/lib/python3.8/site-packages (from pandas) (1.24.2)\n",
      "Requirement already satisfied: pyparsing<4,>=2.1.0 in ./.venv/lib/python3.8/site-packages (from rdflib) (3.0.9)\n",
      "Requirement already satisfied: isodate<0.7.0,>=0.6.0 in ./.venv/lib/python3.8/site-packages (from rdflib) (0.6.1)\n",
      "Requirement already satisfied: packaging>=20.0 in ./.venv/lib/python3.8/site-packages (from matplotlib) (23.0)\n",
      "Requirement already satisfied: importlib-resources>=3.2.0 in ./.venv/lib/python3.8/site-packages (from matplotlib) (5.12.0)\n",
      "Requirement already satisfied: pillow>=6.2.0 in ./.venv/lib/python3.8/site-packages (from matplotlib) (9.4.0)\n",
      "Requirement already satisfied: contourpy>=1.0.1 in ./.venv/lib/python3.8/site-packages (from matplotlib) (1.0.7)\n",
      "Requirement already satisfied: cycler>=0.10 in ./.venv/lib/python3.8/site-packages (from matplotlib) (0.11.0)\n",
      "Requirement already satisfied: fonttools>=4.22.0 in ./.venv/lib/python3.8/site-packages (from matplotlib) (4.39.2)\n",
      "Requirement already satisfied: kiwisolver>=1.0.1 in ./.venv/lib/python3.8/site-packages (from matplotlib) (1.4.4)\n",
      "Requirement already satisfied: MarkupSafe>=2.0 in ./.venv/lib/python3.8/site-packages (from jinja2) (2.1.2)\n",
      "Requirement already satisfied: zipp>=3.1.0 in ./.venv/lib/python3.8/site-packages (from importlib-resources>=3.2.0->matplotlib) (3.15.0)\n",
      "Requirement already satisfied: six in ./.venv/lib/python3.8/site-packages (from isodate<0.7.0,>=0.6.0->rdflib) (1.16.0)\n"
     ]
    }
   ],
   "source": [
    "! pip install --upgrade pip setuptools wheel\n",
    "! pip install ndjson pandas rdflib matplotlib jinja2\n",
    "\n",
    "import ndjson\n",
    "import pandas as pd\n",
    "from rdflib import Graph, Literal, Namespace\n",
    "from rdflib.namespace import OWL, SKOS\n",
    "import unicodedata\n",
    "import matplotlib.pyplot as plt\n",
    "import matplotlib\n",
    "import datetime"
   ]
  },
  {
   "cell_type": "code",
   "execution_count": 2,
   "metadata": {},
   "outputs": [
    {
     "name": "stderr",
     "output_type": "stream",
     "text": [
      "Failed to convert Literal lexical form to value. Datatype=http://www.w3.org/2001/XMLSchema#date, Converter=<function parse_date at 0x7f93db50ad30>\n",
      "Traceback (most recent call last):\n",
      "  File \"/home/local/jmminkin/git/FintoAI-data-YSO/repository-metrics-analysis/.venv/lib/python3.8/site-packages/rdflib/term.py\", line 2084, in _castLexicalToPython\n",
      "    return conv_func(lexical)  # type: ignore[arg-type]\n",
      "  File \"/home/local/jmminkin/git/FintoAI-data-YSO/repository-metrics-analysis/.venv/lib/python3.8/site-packages/isodate/isodates.py\", line 201, in parse_date\n",
      "    return date(sign * int(groups['year']),\n",
      "ValueError: month must be in 1..12\n"
     ]
    },
    {
     "name": "stdout",
     "output_type": "stream",
     "text": [
      "Number of triples in YSA:  433048\n",
      "Number of triples in Allärs:  412097\n"
     ]
    }
   ],
   "source": [
    "# load current YSA\n",
    "ysa = Graph()\n",
    "ysa.parse('http://finto.fi/rest/v1/ysa/data?format=text/turtle')\n",
    "print('Number of triples in YSA: ', len(ysa))\n",
    "\n",
    "# load current Allärs\n",
    "allars = Graph()\n",
    "allars.parse('http://finto.fi/rest/v1/allars/data?format=text/turtle')\n",
    "print('Number of triples in Allärs: ', len(allars))\n"
   ]
  },
  {
   "cell_type": "code",
   "execution_count": 3,
   "metadata": {},
   "outputs": [
    {
     "name": "stdout",
     "output_type": "stream",
     "text": [
      "Number of triples in YSO+YSO Places:  830887\n"
     ]
    }
   ],
   "source": [
    "# load YSO and YSO Places\n",
    "yso = Graph()\n",
    "yso.parse(\"../Annif-corpora/vocab/yso-skos.ttl\", format='turtle')\n",
    "print('Number of triples in YSO+YSO Places: ', len(yso))"
   ]
  },
  {
   "cell_type": "markdown",
   "metadata": {},
   "source": [
    "# Helper functions"
   ]
  },
  {
   "cell_type": "code",
   "execution_count": 53,
   "metadata": {},
   "outputs": [],
   "source": [
    "YSO = Namespace('http://www.yso.fi/onto/yso/')\n",
    "COMPLAIN = False  # whether to complain about unknown labels\n",
    "\n",
    "\n",
    "def is_deprecated(ysouri):\n",
    "    return (ysouri, OWL.deprecated, True) in yso\n",
    "\n",
    "\n",
    "def label_to_yso_uris(label, voc, lang, complain=COMPLAIN):\n",
    "    # based on https://github.com/NatLibFi/Annif-corpora/blob/6521d0357f3d93019f6d2838b960e80d9131735c/tools/finna-metadata-collect-scripts/create-corpus.py#L54\n",
    "    \n",
    "    # Remove trailing \".\" present in labels of some records\n",
    "    try:\n",
    "        value = Literal(unicodedata.normalize('NFC', label.rstrip('.')), lang)\n",
    "    except Exception as e:\n",
    "        print(\"Error normalizing label '{}'\".format(label))\n",
    "        return []\n",
    "\n",
    "    for prop in (SKOS.prefLabel, SKOS.altLabel):\n",
    "        vocuri = voc.value(None, prop, value, any=True)\n",
    "        if vocuri is not None:\n",
    "            if vocuri.startswith(YSO):\n",
    "                return [vocuri]\n",
    "            for matchprop in (SKOS.exactMatch, SKOS.closeMatch):\n",
    "                matches = [match for match in voc.objects(vocuri, matchprop)\n",
    "                           if match.startswith(YSO)]\n",
    "                if matches:\n",
    "                    return matches\n",
    "\n",
    "    # hackish fallbacks for cases like \"kulttuuri\", where YSO Cicero is out of\n",
    "    # date: look up via ysa/allars\n",
    "    if lang == 'fi' and voc == yso:\n",
    "        matches = label_to_yso_uris(label, ysa, lang)\n",
    "        if matches:\n",
    "            #print(\"missing fi label '{}' found via ysa\".format(label))\n",
    "            return matches\n",
    "\n",
    "    if lang == 'sv' and voc == yso:\n",
    "        matches = label_to_yso_uris(label, allars, lang)\n",
    "        if matches:\n",
    "            #print(\"missing sv label '{}' found via allars\".format(label))\n",
    "            return matches\n",
    "\n",
    "    if complain:\n",
    "        print(\"Unknown label '{}'\".format(label))\n",
    "    return []\n",
    "\n",
    "\n",
    "def add_subjects_uris(df, lang, source_col):\n",
    "    df[\"subjects_uris\"] = df[source_col].apply(lambda x: [label_to_yso_uris(label, yso, lang, COMPLAIN) for label in x])\n",
    "    df[\"subjects_uris\"] = df[\"subjects_uris\"].apply(lambda x: [str(item) for sublist in x for item in sublist])\n",
    "    return df\n",
    "\n",
    "\n",
    "def calc_scores(df):\n",
    "    # calculate precision, recall, f1\n",
    "    df[\"precision\"] = df.apply(lambda x: len(set(x.subjects_uris) & set(x.suggestions)) / len(x.suggestions) if len(x.suggestions) > 0 else pd.np.nan, axis=1)\n",
    "    df[\"recall\"] = df.apply(lambda x: len(set(x.subjects_uris) & set(x.suggestions)) / len(x.subjects_uris) if len(x.subjects_uris) > 0 else pd.np.nan, axis=1)\n",
    "    df[\"f1 score\"] = df.apply(lambda x: 2 * x.precision * x.recall / (x.precision + x.recall) if (x.precision + x.recall) != 0 else 0, axis=1)\n",
    "    df['f1 score'] = pd.to_numeric(df['f1 score'])\n",
    "\n",
    "\n",
    "def plot_scores(df):\n",
    "    calc_scores(df)\n",
    "\n",
    "    # mark annif_updates in the plot\n",
    "    for upd in annif_updates:\n",
    "        plt.axvline(upd, color='red', linestyle='--')\n",
    "\n",
    "    # plot precision, recall, f1 as a function of time. Label with month start\n",
    "    df_monthly = df.set_index(\"date_accessioned\").resample('MS').mean()\n",
    "    df_monthly.plot(marker='o', ax=plt.gca())\n",
    "    # labels = [x.strftime(\"%Y-%m\") for x in df_monthly.index]\n",
    "    # plt.gca().set_xticklabels(labels, rotation=45)\n",
    "    # plt.gca().xaxis.set_major_locator(plt.MaxNLocator(10))\n",
    "    plt.grid()\n",
    "\n",
    "\n",
    "def plot_counts(df):\n",
    "    # How many records there are with suggestions each month? Label with month start\n",
    "    df_monthly = df.set_index('date_accessioned').resample(\"MS\").id.count()\n",
    "    # df_monthly.plot.bar()\n",
    "    plt.bar(df_monthly.index, df_monthly, width=20)\n",
    "    # plt.ylabel(\"Number of records\")\n",
    "    plt.grid()\n",
    "\n",
    "\n",
    "def get_number_of_rows(df):\n",
    "    print(\"rows: \", len(df))\n",
    "    print(\"rows with subjects_yso: \", len(df[df.subjects_yso.apply(lambda x: len(x) > 0)]))\n",
    "    print(\"rows with subjects_all: \", len(df[df.subjects_all.apply(lambda x: len(x) > 0)]))\n",
    "    print(\"rows with suggestions: \", len(df[df.suggestions.apply(lambda x: len(x) > 0)]))\n",
    "    print(\"rows with subjects_uris: \", len(df[df.subjects_uris.apply(lambda x: len(x) > 0)]))\n",
    "    print(\"rows with both suggestions & subject_uris: \", len(retain_relevant(df)))\n",
    "\n",
    "\n",
    "def retain_relevant(df):\n",
    "    df = df.copy()\n",
    "    return df[df.suggestions.apply(lambda x: len([e for e in x if e != '']) > 0) & df.subjects_uris.apply(lambda x: len([e for e in x if e != '']) > 0)]\n",
    "\n",
    "\n",
    "# Dates when Annif models were updated in Finto AI\n",
    "annif_updates = [\n",
    "    # \"2020-03-26\",\n",
    "    \"2020-12-09\",\n",
    "    \"2021-04-27\",\n",
    "    \"2021-11-11\",\n",
    "    \"2022-06-21\",\n",
    "    \"2022-11-22\",\n",
    "]\n",
    "# convert to datetime with utc timezone\n",
    "annif_updates = [datetime.datetime.strptime(x, \"%Y-%m-%d\").replace(tzinfo=datetime.timezone.utc) for x in annif_updates]\n",
    "\n",
    "def get_annif_update(date):\n",
    "    return max([upd for upd in annif_updates if upd<date], default=None)\n"
   ]
  },
  {
   "attachments": {},
   "cell_type": "markdown",
   "metadata": {},
   "source": [
    "## Load data"
   ]
  },
  {
   "cell_type": "code",
   "execution_count": 5,
   "metadata": {},
   "outputs": [
    {
     "name": "stdout",
     "output_type": "stream",
     "text": [
      "57488\n",
      "47296\n",
      "8102\n",
      "1884\n"
     ]
    }
   ],
   "source": [
    "with open(\"theseus.ndjson\") as f:\n",
    "    data = ndjson.load(f)\n",
    "df = pd.DataFrame(data)\n",
    "\n",
    "df.date_issued = pd.to_datetime(df.date_issued, errors='coerce', utc=True)\n",
    "df.date_accessioned = pd.to_datetime(df.date_accessioned, errors='coerce', utc=True)\n",
    "df['annif_update'] = df.date_accessioned.map(get_annif_update)\n",
    "df.rename(columns={'lang': 'language'}, inplace=True)\n",
    "\n",
    "\n",
    "print(len(df))\n",
    "df_fi = df[(df.language == 'fin') | (df.language == 'fi')]\n",
    "print(len(df_fi))\n",
    "df_en = df[(df.language == 'eng') | (df.language == 'en')]\n",
    "print(len(df_en))\n",
    "df_sv = df[(df.language == 'swe') | (df.language == 'sv')]\n",
    "print(len(df_sv))"
   ]
  },
  {
   "cell_type": "code",
   "execution_count": 6,
   "metadata": {},
   "outputs": [
    {
     "name": "stdout",
     "output_type": "stream",
     "text": [
      "Error normalizing label 'None'\n",
      "Error normalizing label 'None'\n",
      "Error normalizing label 'None'\n",
      "Error normalizing label 'None'\n",
      "Error normalizing label 'None'\n",
      "Error normalizing label 'None'\n",
      "Error normalizing label 'None'\n",
      "Error normalizing label 'None'\n",
      "Error normalizing label 'None'\n",
      "Error normalizing label 'None'\n",
      "Error normalizing label 'None'\n",
      "Error normalizing label 'None'\n"
     ]
    },
    {
     "name": "stderr",
     "output_type": "stream",
     "text": [
      "/tmp/ipykernel_311370/1465619038.py:50: SettingWithCopyWarning: \n",
      "A value is trying to be set on a copy of a slice from a DataFrame.\n",
      "Try using .loc[row_indexer,col_indexer] = value instead\n",
      "\n",
      "See the caveats in the documentation: https://pandas.pydata.org/pandas-docs/stable/user_guide/indexing.html#returning-a-view-versus-a-copy\n",
      "  df[\"subjects_uris\"] = df[source_col].apply(lambda x: [label_to_yso_uris(label, yso, lang, COMPLAIN) for label in x])\n",
      "/tmp/ipykernel_311370/1465619038.py:51: SettingWithCopyWarning: \n",
      "A value is trying to be set on a copy of a slice from a DataFrame.\n",
      "Try using .loc[row_indexer,col_indexer] = value instead\n",
      "\n",
      "See the caveats in the documentation: https://pandas.pydata.org/pandas-docs/stable/user_guide/indexing.html#returning-a-view-versus-a-copy\n",
      "  df[\"subjects_uris\"] = df[\"subjects_uris\"].apply(lambda x: [str(item) for sublist in x for item in sublist])\n"
     ]
    },
    {
     "name": "stdout",
     "output_type": "stream",
     "text": [
      "rows:  47296\n",
      "rows with subjects_yso:  45512\n",
      "rows with subjects_all:  46718\n",
      "rows with suggestions:  47296\n",
      "rows with subjects_uris:  46498\n",
      "rows with both suggestions & subject_uris:  43192\n",
      "\n"
     ]
    },
    {
     "data": {
      "text/plain": [
       "fi=AMK-opinnäytetyö|sv=YH-examensarbete|en=Bachelor's thesis|                                                                    35269\n",
       "fi=Ylempi AMK-opinnäytetyö|sv=Högre YH-examensarbete|en=Master's thesis|                                                          6998\n",
       "publication                                                                                                                        837\n",
       "fi=Publisher's version|sv=Publisher's version|en=Publisher's version|                                                               50\n",
       "fi=Erikoistumisopintojen opinnäytetyö|sv=Examensarbete för specialiseringsutbildning|en=Thesis for specialisation studies|          36\n",
       "fi=Opettaja-AMK-opinnäytetyö|sv=Examensarbete för yrkeslärarutbildning|en=Bachelor's thesis for vocational teacher education|        2\n",
       "Name: type, dtype: int64"
      ]
     },
     "execution_count": 6,
     "metadata": {},
     "output_type": "execute_result"
    }
   ],
   "source": [
    "df_fi = add_subjects_uris(df_fi, 'fi', source_col='subjects_all')\n",
    "get_number_of_rows(df_fi)\n",
    "# Retain only rows having both suggestions and subjects_uris\n",
    "df_fi = retain_relevant(df_fi)\n",
    "print()\n",
    "title_str = \"Theseus suomi\"\n",
    "df_fi.type.value_counts()"
   ]
  },
  {
   "attachments": {},
   "cell_type": "markdown",
   "metadata": {},
   "source": [
    "## Main results: precision, recall, and f1 over time"
   ]
  },
  {
   "cell_type": "code",
   "execution_count": 54,
   "metadata": {},
   "outputs": [
    {
     "name": "stderr",
     "output_type": "stream",
     "text": [
      "/tmp/ipykernel_311370/793406199.py:71: FutureWarning: The default value of numeric_only in DataFrameGroupBy.mean is deprecated. In a future version, numeric_only will default to False. Either specify numeric_only or select only columns which should be valid for the function.\n",
      "  df_monthly = df.set_index(\"date_accessioned\").resample('MS').mean()\n",
      "/tmp/ipykernel_311370/3260459212.py:6: UserWarning: The label '_' of <matplotlib.lines.Line2D object at 0x7f93644e3370> starts with '_'. It is thus excluded from the legend.\n",
      "  plt.legend([\"_\", \"_\", \"_\", \"_\", \"_\", \"tarkkuus\", \"saanti\", \"F1-arvo\"]) #, loc='center right')\n",
      "/tmp/ipykernel_311370/3260459212.py:6: UserWarning: The label '_' of <matplotlib.lines.Line2D object at 0x7f93644ec370> starts with '_'. It is thus excluded from the legend.\n",
      "  plt.legend([\"_\", \"_\", \"_\", \"_\", \"_\", \"tarkkuus\", \"saanti\", \"F1-arvo\"]) #, loc='center right')\n",
      "/tmp/ipykernel_311370/3260459212.py:6: UserWarning: The label '_' of <matplotlib.lines.Line2D object at 0x7f93644ecf10> starts with '_'. It is thus excluded from the legend.\n",
      "  plt.legend([\"_\", \"_\", \"_\", \"_\", \"_\", \"tarkkuus\", \"saanti\", \"F1-arvo\"]) #, loc='center right')\n",
      "/tmp/ipykernel_311370/3260459212.py:6: UserWarning: The label '_' of <matplotlib.lines.Line2D object at 0x7f93644ec310> starts with '_'. It is thus excluded from the legend.\n",
      "  plt.legend([\"_\", \"_\", \"_\", \"_\", \"_\", \"tarkkuus\", \"saanti\", \"F1-arvo\"]) #, loc='center right')\n",
      "/tmp/ipykernel_311370/3260459212.py:6: UserWarning: The label '_' of <matplotlib.lines.Line2D object at 0x7f93644ec9a0> starts with '_'. It is thus excluded from the legend.\n",
      "  plt.legend([\"_\", \"_\", \"_\", \"_\", \"_\", \"tarkkuus\", \"saanti\", \"F1-arvo\"]) #, loc='center right')\n"
     ]
    },
    {
     "data": {
      "image/png": "[encoded data removed]",
      "text/plain": [
       "<Figure size 800x500 with 1 Axes>"
      ]
     },
     "metadata": {},
     "output_type": "display_data"
    },
    {
     "data": {
      "image/png": "[encoded data removed]",
      "text/plain": [
       "<Figure size 800x300 with 1 Axes>"
      ]
     },
     "metadata": {},
     "output_type": "display_data"
    }
   ],
   "source": [
    "plt.figure(figsize=(8, 5))\n",
    "plot_scores(df_fi)\n",
    "plt.xlabel(\"syöttöaika\")\n",
    "plt.ylabel(\"mittarin arvo\")\n",
    "# hide legend labels of vertical lines and change other labels to finnish\n",
    "plt.legend([\"_\", \"_\", \"_\", \"_\", \"_\", \"tarkkuus\", \"saanti\", \"F1-arvo\"]) #, loc='center right')\n",
    "# set x ticks to every 3 months starting from 2020-10, ticks to start of month\n",
    "plt.gca().set_xticks(pd.date_range(\"2020-10-01\", \"2023-03-31\", freq=\"3MS\"))\n",
    "# format x ticks to month-year\n",
    "plt.gca().xaxis.set_major_formatter(matplotlib.dates.DateFormatter(\"%Y-%m\"))\n",
    "\n",
    "\n",
    "plt.figure(figsize=(8, 3))\n",
    "plot_counts(df_fi)\n",
    "plt.xlabel(\"syöttöaika\")\n",
    "plt.ylabel(\"dokumenttien määrä\")\n",
    "plt.yticks([0, 2000, 4000, ])\n",
    "# set x ticks to every 3 months starting from 2020-10, ticks to start of month\n",
    "plt.gca().set_xticks(pd.date_range(\"2020-10-01\", \"2023-03-31\", freq=\"3MS\"))\n",
    "# format x ticks to month-year\n",
    "plt.gca().xaxis.set_major_formatter(matplotlib.dates.DateFormatter(\"%Y-%m\"))\n",
    "# rotate x tick labels\n",
    "_ = plt.setp(plt.gca().get_xticklabels(), rotation=45, ha=\"right\", rotation_mode=\"anchor\")"
   ]
  },
  {
   "cell_type": "code",
   "execution_count": 55,
   "metadata": {},
   "outputs": [
    {
     "name": "stderr",
     "output_type": "stream",
     "text": [
      "/tmp/ipykernel_311370/3516352905.py:2: FutureWarning: Indexing with multiple keys (implicitly converted to a tuple of keys) will be deprecated, use a list instead.\n",
      "  df_fi.groupby(\"annif_update\")['precision', 'recall', 'f1 score'].agg(['mean', 'count']).style.set_caption(title_str)\n"
     ]
    },
    {
     "data": {
      "text/html": [
       "<style type=\"text/css\">\n",
       "</style>\n",
       "<table id=\"T_44d53\">\n",
       "  <caption>Theseus suomi</caption>\n",
       "  <thead>\n",
       "    <tr>\n",
       "      <th class=\"blank level0\" >&nbsp;</th>\n",
       "      <th id=\"T_44d53_level0_col0\" class=\"col_heading level0 col0\" colspan=\"2\">precision</th>\n",
       "      <th id=\"T_44d53_level0_col2\" class=\"col_heading level0 col2\" colspan=\"2\">recall</th>\n",
       "      <th id=\"T_44d53_level0_col4\" class=\"col_heading level0 col4\" colspan=\"2\">f1 score</th>\n",
       "    </tr>\n",
       "    <tr>\n",
       "      <th class=\"blank level1\" >&nbsp;</th>\n",
       "      <th id=\"T_44d53_level1_col0\" class=\"col_heading level1 col0\" >mean</th>\n",
       "      <th id=\"T_44d53_level1_col1\" class=\"col_heading level1 col1\" >count</th>\n",
       "      <th id=\"T_44d53_level1_col2\" class=\"col_heading level1 col2\" >mean</th>\n",
       "      <th id=\"T_44d53_level1_col3\" class=\"col_heading level1 col3\" >count</th>\n",
       "      <th id=\"T_44d53_level1_col4\" class=\"col_heading level1 col4\" >mean</th>\n",
       "      <th id=\"T_44d53_level1_col5\" class=\"col_heading level1 col5\" >count</th>\n",
       "    </tr>\n",
       "    <tr>\n",
       "      <th class=\"index_name level0\" >annif_update</th>\n",
       "      <th class=\"blank col0\" >&nbsp;</th>\n",
       "      <th class=\"blank col1\" >&nbsp;</th>\n",
       "      <th class=\"blank col2\" >&nbsp;</th>\n",
       "      <th class=\"blank col3\" >&nbsp;</th>\n",
       "      <th class=\"blank col4\" >&nbsp;</th>\n",
       "      <th class=\"blank col5\" >&nbsp;</th>\n",
       "    </tr>\n",
       "  </thead>\n",
       "  <tbody>\n",
       "    <tr>\n",
       "      <th id=\"T_44d53_level0_row0\" class=\"row_heading level0 row0\" >2020-12-09 00:00:00+00:00</th>\n",
       "      <td id=\"T_44d53_row0_col0\" class=\"data row0 col0\" >0.425287</td>\n",
       "      <td id=\"T_44d53_row0_col1\" class=\"data row0 col1\" >5267</td>\n",
       "      <td id=\"T_44d53_row0_col2\" class=\"data row0 col2\" >0.857866</td>\n",
       "      <td id=\"T_44d53_row0_col3\" class=\"data row0 col3\" >5267</td>\n",
       "      <td id=\"T_44d53_row0_col4\" class=\"data row0 col4\" >0.544606</td>\n",
       "      <td id=\"T_44d53_row0_col5\" class=\"data row0 col5\" >5267</td>\n",
       "    </tr>\n",
       "    <tr>\n",
       "      <th id=\"T_44d53_level0_row1\" class=\"row_heading level0 row1\" >2021-04-27 00:00:00+00:00</th>\n",
       "      <td id=\"T_44d53_row1_col0\" class=\"data row1 col0\" >0.439371</td>\n",
       "      <td id=\"T_44d53_row1_col1\" class=\"data row1 col1\" >8892</td>\n",
       "      <td id=\"T_44d53_row1_col2\" class=\"data row1 col2\" >0.877361</td>\n",
       "      <td id=\"T_44d53_row1_col3\" class=\"data row1 col3\" >8892</td>\n",
       "      <td id=\"T_44d53_row1_col4\" class=\"data row1 col4\" >0.560756</td>\n",
       "      <td id=\"T_44d53_row1_col5\" class=\"data row1 col5\" >8892</td>\n",
       "    </tr>\n",
       "    <tr>\n",
       "      <th id=\"T_44d53_level0_row2\" class=\"row_heading level0 row2\" >2021-11-11 00:00:00+00:00</th>\n",
       "      <td id=\"T_44d53_row2_col0\" class=\"data row2 col0\" >0.484446</td>\n",
       "      <td id=\"T_44d53_row2_col1\" class=\"data row2 col1\" >15974</td>\n",
       "      <td id=\"T_44d53_row2_col2\" class=\"data row2 col2\" >0.907416</td>\n",
       "      <td id=\"T_44d53_row2_col3\" class=\"data row2 col3\" >15974</td>\n",
       "      <td id=\"T_44d53_row2_col4\" class=\"data row2 col4\" >0.605773</td>\n",
       "      <td id=\"T_44d53_row2_col5\" class=\"data row2 col5\" >15974</td>\n",
       "    </tr>\n",
       "    <tr>\n",
       "      <th id=\"T_44d53_level0_row3\" class=\"row_heading level0 row3\" >2022-06-21 00:00:00+00:00</th>\n",
       "      <td id=\"T_44d53_row3_col0\" class=\"data row3 col0\" >0.510089</td>\n",
       "      <td id=\"T_44d53_row3_col1\" class=\"data row3 col1\" >2696</td>\n",
       "      <td id=\"T_44d53_row3_col2\" class=\"data row3 col2\" >0.915239</td>\n",
       "      <td id=\"T_44d53_row3_col3\" class=\"data row3 col3\" >2696</td>\n",
       "      <td id=\"T_44d53_row3_col4\" class=\"data row3 col4\" >0.626786</td>\n",
       "      <td id=\"T_44d53_row3_col5\" class=\"data row3 col5\" >2696</td>\n",
       "    </tr>\n",
       "    <tr>\n",
       "      <th id=\"T_44d53_level0_row4\" class=\"row_heading level0 row4\" >2022-11-22 00:00:00+00:00</th>\n",
       "      <td id=\"T_44d53_row4_col0\" class=\"data row4 col0\" >0.505008</td>\n",
       "      <td id=\"T_44d53_row4_col1\" class=\"data row4 col1\" >6279</td>\n",
       "      <td id=\"T_44d53_row4_col2\" class=\"data row4 col2\" >0.916378</td>\n",
       "      <td id=\"T_44d53_row4_col3\" class=\"data row4 col3\" >6279</td>\n",
       "      <td id=\"T_44d53_row4_col4\" class=\"data row4 col4\" >0.623482</td>\n",
       "      <td id=\"T_44d53_row4_col5\" class=\"data row4 col5\" >6279</td>\n",
       "    </tr>\n",
       "  </tbody>\n",
       "</table>\n"
      ],
      "text/plain": [
       "<pandas.io.formats.style.Styler at 0x7f9404855be0>"
      ]
     },
     "execution_count": 55,
     "metadata": {},
     "output_type": "execute_result"
    }
   ],
   "source": [
    "# Group by annif_update and give mean precision, recall, f1\n",
    "df_fi.groupby(\"annif_update\")['precision', 'recall', 'f1 score'].agg(['mean', 'count']).style.set_caption(title_str)"
   ]
  },
  {
   "attachments": {},
   "cell_type": "markdown",
   "metadata": {},
   "source": [
    "## Distributions"
   ]
  },
  {
   "cell_type": "code",
   "execution_count": 100,
   "metadata": {},
   "outputs": [
    {
     "data": {
      "text/plain": [
       "Text(0.5, 0, 'mittarin arvo')"
      ]
     },
     "execution_count": 100,
     "metadata": {},
     "output_type": "execute_result"
    },
    {
     "data": {
      "image/png": "[encoded data removed]",
      "text/plain": [
       "<Figure size 800x300 with 2 Axes>"
      ]
     },
     "metadata": {},
     "output_type": "display_data"
    }
   ],
   "source": [
    " # 11 bins to avoid empty bins (due to bin open interval on right edges?)\n",
    "df_fi[['precision', 'recall']].hist(bins=11, figsize=(8, 3), edgecolor = \"black\", linewidth = 0.8)\n",
    "plt.gca().set_title(\"saanti\")\n",
    "# plt.ylabel(\"dokumenttien määrä\")\n",
    "plt.xlabel(\"mittarin arvo\")\n",
    "plt.yticks([0, 10000, 20000, 30000])\n",
    "\n",
    "# select axis of first subplot\n",
    "plt.sca(plt.gcf().axes[0])\n",
    "plt.yticks([0, 4000, 8000, 12000])\n",
    "plt.gca().set_title(\"tarkkuus\")\n",
    "plt.ylabel(\"dokumenttien määrä\")\n",
    "plt.xlabel(\"mittarin arvo\")\n"
   ]
  },
  {
   "cell_type": "markdown",
   "metadata": {},
   "source": [
    "The histogram of recall above indicates that nearly never users assigns subjects that\n",
    "are not suggested by Annif. "
   ]
  },
  {
   "cell_type": "code",
   "execution_count": 10,
   "metadata": {},
   "outputs": [
    {
     "data": {
      "text/html": [
       "<div>\n",
       "<style scoped>\n",
       "    .dataframe tbody tr th:only-of-type {\n",
       "        vertical-align: middle;\n",
       "    }\n",
       "\n",
       "    .dataframe tbody tr th {\n",
       "        vertical-align: top;\n",
       "    }\n",
       "\n",
       "    .dataframe thead th {\n",
       "        text-align: right;\n",
       "    }\n",
       "</style>\n",
       "<table border=\"1\" class=\"dataframe\">\n",
       "  <thead>\n",
       "    <tr style=\"text-align: right;\">\n",
       "      <th></th>\n",
       "      <th>subjects_all</th>\n",
       "      <th>subjects_uris</th>\n",
       "      <th>suggestions</th>\n",
       "    </tr>\n",
       "  </thead>\n",
       "  <tbody>\n",
       "    <tr>\n",
       "      <th>count</th>\n",
       "      <td>43192.000000</td>\n",
       "      <td>43192.000000</td>\n",
       "      <td>43192.000000</td>\n",
       "    </tr>\n",
       "    <tr>\n",
       "      <th>mean</th>\n",
       "      <td>7.608840</td>\n",
       "      <td>5.256668</td>\n",
       "      <td>9.992568</td>\n",
       "    </tr>\n",
       "    <tr>\n",
       "      <th>std</th>\n",
       "      <td>2.473458</td>\n",
       "      <td>2.398786</td>\n",
       "      <td>0.202586</td>\n",
       "    </tr>\n",
       "    <tr>\n",
       "      <th>min</th>\n",
       "      <td>1.000000</td>\n",
       "      <td>1.000000</td>\n",
       "      <td>1.000000</td>\n",
       "    </tr>\n",
       "    <tr>\n",
       "      <th>25%</th>\n",
       "      <td>6.000000</td>\n",
       "      <td>4.000000</td>\n",
       "      <td>10.000000</td>\n",
       "    </tr>\n",
       "    <tr>\n",
       "      <th>50%</th>\n",
       "      <td>7.000000</td>\n",
       "      <td>5.000000</td>\n",
       "      <td>10.000000</td>\n",
       "    </tr>\n",
       "    <tr>\n",
       "      <th>75%</th>\n",
       "      <td>9.000000</td>\n",
       "      <td>7.000000</td>\n",
       "      <td>10.000000</td>\n",
       "    </tr>\n",
       "    <tr>\n",
       "      <th>max</th>\n",
       "      <td>36.000000</td>\n",
       "      <td>36.000000</td>\n",
       "      <td>10.000000</td>\n",
       "    </tr>\n",
       "  </tbody>\n",
       "</table>\n",
       "</div>"
      ],
      "text/plain": [
       "       subjects_all  subjects_uris   suggestions\n",
       "count  43192.000000   43192.000000  43192.000000\n",
       "mean       7.608840       5.256668      9.992568\n",
       "std        2.473458       2.398786      0.202586\n",
       "min        1.000000       1.000000      1.000000\n",
       "25%        6.000000       4.000000     10.000000\n",
       "50%        7.000000       5.000000     10.000000\n",
       "75%        9.000000       7.000000     10.000000\n",
       "max       36.000000      36.000000     10.000000"
      ]
     },
     "execution_count": 10,
     "metadata": {},
     "output_type": "execute_result"
    },
    {
     "data": {
      "image/png": "[encoded data removed]",
      "text/plain": [
       "<Figure size 1000x500 with 4 Axes>"
      ]
     },
     "metadata": {},
     "output_type": "display_data"
    }
   ],
   "source": [
    "# How many subjects and suggestions?\n",
    "df_fi[[\"subjects_all\", \"subjects_uris\", \"suggestions\"]].applymap(lambda x: len(x)).hist(bins=20, figsize=(10, 5))\n",
    "df_fi[[\"subjects_all\", \"subjects_uris\", \"suggestions\"]].applymap(lambda x: len(x)).describe()"
   ]
  },
  {
   "cell_type": "code",
   "execution_count": 11,
   "metadata": {},
   "outputs": [
    {
     "data": {
      "text/plain": [
       "count    43192.000000\n",
       "mean         0.576611\n",
       "std          1.165443\n",
       "min          0.000000\n",
       "25%          0.000000\n",
       "50%          0.000000\n",
       "75%          1.000000\n",
       "max         24.000000\n",
       "dtype: float64"
      ]
     },
     "execution_count": 11,
     "metadata": {},
     "output_type": "execute_result"
    }
   ],
   "source": [
    "# How many subjects_uris not in suggestions? (Handpicked subjects)\n",
    "df_fi.apply(lambda x: len(set(x.subjects_uris) - set(x.suggestions)), axis=1).describe()"
   ]
  },
  {
   "cell_type": "code",
   "execution_count": 12,
   "metadata": {},
   "outputs": [
    {
     "data": {
      "text/html": [
       "<div>\n",
       "<style scoped>\n",
       "    .dataframe tbody tr th:only-of-type {\n",
       "        vertical-align: middle;\n",
       "    }\n",
       "\n",
       "    .dataframe tbody tr th {\n",
       "        vertical-align: top;\n",
       "    }\n",
       "\n",
       "    .dataframe thead th {\n",
       "        text-align: right;\n",
       "    }\n",
       "</style>\n",
       "<table border=\"1\" class=\"dataframe\">\n",
       "  <thead>\n",
       "    <tr style=\"text-align: right;\">\n",
       "      <th></th>\n",
       "      <th>subjects_all</th>\n",
       "      <th>subjects_uris</th>\n",
       "      <th>suggestions</th>\n",
       "    </tr>\n",
       "  </thead>\n",
       "  <tbody>\n",
       "    <tr>\n",
       "      <th>440</th>\n",
       "      <td>[Tuotantopainoitteinen, fi=Rakennus- ja yhdysk...</td>\n",
       "      <td>[http://www.yso.fi/onto/yso/p4794, http://www....</td>\n",
       "      <td>[http://www.yso.fi/onto/yso/p4794, http://www....</td>\n",
       "    </tr>\n",
       "    <tr>\n",
       "      <th>441</th>\n",
       "      <td>[fi=Liiketalous, hallinto ja markkinointi|sv=F...</td>\n",
       "      <td>[http://www.yso.fi/onto/yso/p14072, http://www...</td>\n",
       "      <td>[http://www.yso.fi/onto/yso/p14072, http://www...</td>\n",
       "    </tr>\n",
       "    <tr>\n",
       "      <th>452</th>\n",
       "      <td>[fi=Sosiaaliala|sv=Sociala området|en=Social S...</td>\n",
       "      <td>[http://www.yso.fi/onto/yso/p3485, http://www....</td>\n",
       "      <td>[http://www.yso.fi/onto/yso/p3485, http://www....</td>\n",
       "    </tr>\n",
       "    <tr>\n",
       "      <th>454</th>\n",
       "      <td>[fi=Fysioterapia|sv=Fysioterapi|en=Physiothera...</td>\n",
       "      <td>[http://www.yso.fi/onto/yso/p3320, http://www....</td>\n",
       "      <td>[http://www.yso.fi/onto/yso/p2710, http://www....</td>\n",
       "    </tr>\n",
       "    <tr>\n",
       "      <th>455</th>\n",
       "      <td>[fi=Energia- ja ympäristötekniikka|sv=Energi- ...</td>\n",
       "      <td>[http://www.yso.fi/onto/yso/p20373, http://www...</td>\n",
       "      <td>[http://www.yso.fi/onto/yso/p20373, http://www...</td>\n",
       "    </tr>\n",
       "  </tbody>\n",
       "</table>\n",
       "</div>"
      ],
      "text/plain": [
       "                                          subjects_all  \\\n",
       "440  [Tuotantopainoitteinen, fi=Rakennus- ja yhdysk...   \n",
       "441  [fi=Liiketalous, hallinto ja markkinointi|sv=F...   \n",
       "452  [fi=Sosiaaliala|sv=Sociala området|en=Social S...   \n",
       "454  [fi=Fysioterapia|sv=Fysioterapi|en=Physiothera...   \n",
       "455  [fi=Energia- ja ympäristötekniikka|sv=Energi- ...   \n",
       "\n",
       "                                         subjects_uris  \\\n",
       "440  [http://www.yso.fi/onto/yso/p4794, http://www....   \n",
       "441  [http://www.yso.fi/onto/yso/p14072, http://www...   \n",
       "452  [http://www.yso.fi/onto/yso/p3485, http://www....   \n",
       "454  [http://www.yso.fi/onto/yso/p3320, http://www....   \n",
       "455  [http://www.yso.fi/onto/yso/p20373, http://www...   \n",
       "\n",
       "                                           suggestions  \n",
       "440  [http://www.yso.fi/onto/yso/p4794, http://www....  \n",
       "441  [http://www.yso.fi/onto/yso/p14072, http://www...  \n",
       "452  [http://www.yso.fi/onto/yso/p3485, http://www....  \n",
       "454  [http://www.yso.fi/onto/yso/p2710, http://www....  \n",
       "455  [http://www.yso.fi/onto/yso/p20373, http://www...  "
      ]
     },
     "execution_count": 12,
     "metadata": {},
     "output_type": "execute_result"
    }
   ],
   "source": [
    "df_fi[[\"subjects_all\", \"subjects_uris\", \"suggestions\"]].head()"
   ]
  },
  {
   "attachments": {},
   "cell_type": "markdown",
   "metadata": {},
   "source": [
    "## Number of records with perfect and zero precision, recall, f1"
   ]
  },
  {
   "cell_type": "code",
   "execution_count": 13,
   "metadata": {},
   "outputs": [
    {
     "name": "stdout",
     "output_type": "stream",
     "text": [
      "All:  43192\n",
      "precision == 0:  421\n",
      "recall == 0:  421\n",
      "f1 score == 0:  421\n",
      "precision == 1:  1907\n",
      "recall == 1:  29867\n",
      "f1 score == 1:  1584\n"
     ]
    }
   ],
   "source": [
    "# count of rows with precision, recall, f1 score == 0\n",
    "print(\"All: \", len(df_fi))\n",
    "print(\"precision == 0: \", len(df_fi[df_fi['precision'] == 0]))\n",
    "print(\"recall == 0: \", len(df_fi[df_fi['recall'] == 0]))\n",
    "print(\"f1 score == 0: \", len(df_fi[df_fi['f1 score'] == 0]))\n",
    "print(\"precision == 1: \", len(df_fi[df_fi['precision'] == 1]))\n",
    "print(\"recall == 1: \", len(df_fi[df_fi['recall'] == 1]))\n",
    "print(\"f1 score == 1: \", len(df_fi[df_fi['f1 score'] == 1]))"
   ]
  },
  {
   "cell_type": "markdown",
   "metadata": {},
   "source": [
    "## Results per degree programme"
   ]
  },
  {
   "cell_type": "code",
   "execution_count": 14,
   "metadata": {},
   "outputs": [
    {
     "data": {
      "text/plain": [
       "array(['fi=Rakennus- ja yhdyskuntatekniikka|sv=Byggnads- och samhällsteknik|en=Civil and Construction Engineering|',\n",
       "       'fi=Liiketalous, hallinto ja markkinointi|sv=Företagsekonomi, förvaltning och marknadsföring|en=Business Management, Administration and Marketing|',\n",
       "       'fi=Sosiaaliala|sv=Sociala området|en=Social Sciences|',\n",
       "       'fi=Fysioterapia|sv=Fysioterapi|en=Physiotherapy|',\n",
       "       'fi=Energia- ja ympäristötekniikka|sv=Energi- och miljöteknik|en=Energy and Enviromental Engineering|',\n",
       "       'fi=Teknologiaosaamisen johtaminen|sv=Teknologibaserat ledarskap|en=Technology Management|',\n",
       "       'fi=Automaatiotekniikka|sv=Automationsteknik|en=Automation Engineering|',\n",
       "       'fi=Rakennusmestarit|sv=Byggmästare|en=Construction Managers|', '',\n",
       "       'fi=Tietojenkäsittely|sv=Informationsbehandling|en=Business Information Technology|',\n",
       "       'fi=Luonnonvara- ja ympäristöala|sv=Bioekonomi och Miljöbranschen|en=Natural Resources and Environment|',\n",
       "       'fi=Sosiaali- ja terveysalan johtaminen|sv=Ledarskap inom social- och hälsovårdsbranschen|en=Management of Health and Welfare|',\n",
       "       'fi=Tuotantotalous|sv=Produktionsekonomi|en=Industrial Management|',\n",
       "       'fi=Poliisi|sv=Polis|en=Police|',\n",
       "       'fi=Sähkötekniikka|sv=Elektroteknik|en=Electrical Engineering|',\n",
       "       'fi=Hoitotyö|sv=Vård|en=Nursing|',\n",
       "       'fi=Kulttuurituotanto|sv=Kulturproduktion|en=Cultural Management|',\n",
       "       'fi=Turvallisuusala|sv=Säkerhetsbranschen|en=Security Management|',\n",
       "       'fi=Ajoneuvo- ja kuljetustekniikka|sv=Fordons- och transportteknik|en=Vehicle and Transportation Engineering|',\n",
       "       'fi=Terveydenhoitotyö|sv=Hälsovård|en=Public Health Nursing|',\n",
       "       'fi=Merenkulku|sv=Sjöfart|en=Marine technology|',\n",
       "       'fi=Majoitus- ja ravitsemisala|sv=Inkvarterings- och kosthållsbranschen|en=Hotel and Restaurant|',\n",
       "       'fi=Esittävä taide ja musiikki|sv=Scenkonst och musik|en=Performance art and music|',\n",
       "       'fi=Johdon assistenttityö ja kielet|sv=Ledningsassistentarbete och språk|en=Multilingual Management Assistant|',\n",
       "       'fi=Tieto- ja viestintätekniikka|sv=Informations- och kommunikationsteknik|en=Information and Communications Technology|',\n",
       "       'fi=Konetekniikka|sv=Maskinteknik|en=Mechanical Engineering|',\n",
       "       'fi=Yhteisöpedagogiikka|sv=Samhällspedagogik|en=Community Education|',\n",
       "       'fi=Bio- ja elintarviketekniikka|sv=Bio- och livsmedelsteknik|en=Biotechnology, Food Industry|',\n",
       "       'fi=LVI-tekniikka|sv=VVS-teknik|en=Heating and Ventilation Engineering|',\n",
       "       'fi=Liikunta-ala|sv=Idrottsbranschen|en=Sports studies|',\n",
       "       'fi=Muotoilu|sv=Formgivning|en=Design|',\n",
       "       'fi=Kauneudenhoitoala|sv=Skönhetsbranschen|en=Beauty and Cosmetics|',\n",
       "       'fi=Laboratorioala|sv=Laboratoriebranschen|en=Laboratory Services|',\n",
       "       'fi=Kasvatus- ja opetusala|sv=Pedagogiska området|en=Education|',\n",
       "       'fi=Kemiantekniikka|sv=Kemi|en=Chemical Engineering|',\n",
       "       'fi=Ensihoito ja akuutti hoitotyö|sv=Första- och akutvård|en=Emergency and Acute Care|',\n",
       "       'fi=Logistiikka|sv=Logistik|en=Logistics|',\n",
       "       'fi=Kirjasto- ja informaatiopalvelut|sv=Biblioteks- och informationstjänster|en=Library and Information Services|',\n",
       "       'fi=Suuhygienia|sv=Tandhygieni|en=Dental Hygiene|',\n",
       "       'fi=Prosessitekniikka|sv=Processteknik|en=Process Engineering|',\n",
       "       'fi=Matkailu|sv=Turism|en=Tourism|',\n",
       "       'fi=Maanmittaustekniikka|sv=Lantmäteriteknik|en=Surveying Technology|',\n",
       "       'fi=Liikenneala|sv=Transport|en=Traffic|',\n",
       "       'fi=Radiografia ja sädehoito|sv=Radiografi och strålbehandling|en=Radiography and Radiotherapy|',\n",
       "       'fi=Vanhustyö|sv=Äldrevård|en=Elderly Care|',\n",
       "       'fi=Palo- ja pelastusala|sv=Räddningsbranschen|en=Emergency Services|',\n",
       "       'fi=Media-ala|sv=Mediebranschen|en=Media|',\n",
       "       'fi=Kätilötyö|sv=Förlossningsvård|en=Midwifery|',\n",
       "       'fi=Kuvataide|sv=Bildkonst|en=Fine arts|',\n",
       "       'fi=Palvelumuotoilu|sv=Service Design|en=Service Design|',\n",
       "       'fi=Toimintaterapia|sv=Ergoterapi|en=Occupational Therapy|',\n",
       "       'fi=Materiaalitekniikka|sv=Materialteknik|en=Materials Engineering|',\n",
       "       'fi=Paperi-, tekstiili- ja kemiantekniikka|sv=Pappers-, textil- och kemiateknik|en=Paper, Textiles, Chemistry|',\n",
       "       'fi=Bioanalytiikka|sv=Bioanalytik|en=Bionalytics|',\n",
       "       'fi=Rakennusarkkitehtuuri|sv=Byggnadsarkitektur|en=Construction Architecture|',\n",
       "       'fi=Naprapatia|sv=Naprapatia|en=Naprapathy|',\n",
       "       'fi=Kuntoutus|sv=Rehabilitering|en=Rehabilitation|',\n",
       "       'fi=Jalkaterapia|sv=Fotterapi|en=Podiatry|',\n",
       "       'fi=Projekti-ja myyntijohtaminen|sv=Projekt- och säljledning|en=project and sales management|',\n",
       "       'fi=Hyvinvointiteknologia|sv=Välfärdsteknologi|en=Welfare technology|',\n",
       "       'fi=Tulkkaus|sv=Tolkning|en=Interpreting|',\n",
       "       'fi=Tekstiili- ja vaatetussuunnittelu|sv=Textil- och beklädnadsdesign|en=Textiles and Clothing Design|',\n",
       "       'fi=Vaatetusala|sv=Konfektionbranschen|en=Textile and Clothing Industry|',\n",
       "       'fi=Apuvälinetekniikka|sv=Hjälpmedelsteknik|en=Orthotics and Prosthetics|',\n",
       "       'fi=Rikosseuraamusala|sv=Brottspåföljdsområdet|en=Correctional Services|',\n",
       "       'fi=Optometria|sv=Optometri|en=Optometry|',\n",
       "       'fi=Konservointi, restaurointi|sv=Konservering, restauration|en=Conservation, restoration|',\n",
       "       'fi=Puunjalostustekniikka|sv=Trädförädlingsteknik|en=Wood Processing Technology|',\n",
       "       'fi=Elektroniikka|sv=Elektronik|en=Electronic Engineering|',\n",
       "       'fi=Toimitilapalvelut ja talousala|sv=Rengöringsservice och ekonomibranschen|en=Facilities Management|',\n",
       "       'fi=Hammastekniikka|sv=Tandteknik|en=Dental Technology|',\n",
       "       'fi=Osteopatia|sv=Osteopathy|en=Osteopathy|'], dtype=object)"
      ]
     },
     "execution_count": 14,
     "metadata": {},
     "output_type": "execute_result"
    }
   ],
   "source": [
    "df_fi.degreeprogram.unique()"
   ]
  },
  {
   "cell_type": "code",
   "execution_count": 15,
   "metadata": {},
   "outputs": [
    {
     "data": {
      "text/plain": [
       "array(['publication',\n",
       "       \"fi=Publisher's version|sv=Publisher's version|en=Publisher's version|\"],\n",
       "      dtype=object)"
      ]
     },
     "execution_count": 15,
     "metadata": {},
     "output_type": "execute_result"
    }
   ],
   "source": [
    "df_fi[df_fi.degreeprogram == ''].type.unique()"
   ]
  },
  {
   "cell_type": "code",
   "execution_count": 16,
   "metadata": {},
   "outputs": [],
   "source": [
    "# assign special value to empty degreeprogram\n",
    "df_fi.loc[df_fi.degreeprogram == '', 'degreeprogram'] = '(Muu julkaisu)'"
   ]
  },
  {
   "cell_type": "code",
   "execution_count": 17,
   "metadata": {},
   "outputs": [
    {
     "name": "stderr",
     "output_type": "stream",
     "text": [
      "/tmp/ipykernel_311370/2085424453.py:2: FutureWarning: Indexing with multiple keys (implicitly converted to a tuple of keys) will be deprecated, use a list instead.\n",
      "  df_per_dp = df_fi.groupby(\"degreeprogram\")['precision', 'recall', 'f1 score'].agg(['mean', 'count']).sort_values(by=('f1 score', 'mean'), ascending=False)\n"
     ]
    },
    {
     "data": {
      "text/html": [
       "<div>\n",
       "<style scoped>\n",
       "    .dataframe tbody tr th:only-of-type {\n",
       "        vertical-align: middle;\n",
       "    }\n",
       "\n",
       "    .dataframe tbody tr th {\n",
       "        vertical-align: top;\n",
       "    }\n",
       "\n",
       "    .dataframe thead tr th {\n",
       "        text-align: left;\n",
       "    }\n",
       "\n",
       "    .dataframe thead tr:last-of-type th {\n",
       "        text-align: right;\n",
       "    }\n",
       "</style>\n",
       "<table border=\"1\" class=\"dataframe\">\n",
       "  <thead>\n",
       "    <tr>\n",
       "      <th></th>\n",
       "      <th colspan=\"2\" halign=\"left\">precision</th>\n",
       "      <th colspan=\"2\" halign=\"left\">recall</th>\n",
       "      <th colspan=\"2\" halign=\"left\">f1 score</th>\n",
       "    </tr>\n",
       "    <tr>\n",
       "      <th></th>\n",
       "      <th>mean</th>\n",
       "      <th>count</th>\n",
       "      <th>mean</th>\n",
       "      <th>count</th>\n",
       "      <th>mean</th>\n",
       "      <th>count</th>\n",
       "    </tr>\n",
       "    <tr>\n",
       "      <th>degreeprogram</th>\n",
       "      <th></th>\n",
       "      <th></th>\n",
       "      <th></th>\n",
       "      <th></th>\n",
       "      <th></th>\n",
       "      <th></th>\n",
       "    </tr>\n",
       "  </thead>\n",
       "  <tbody>\n",
       "    <tr>\n",
       "      <th>Esittävä taide ja musiikki</th>\n",
       "      <td>0.566667</td>\n",
       "      <td>564</td>\n",
       "      <td>0.857437</td>\n",
       "      <td>564</td>\n",
       "      <td>0.659676</td>\n",
       "      <td>564</td>\n",
       "    </tr>\n",
       "    <tr>\n",
       "      <th>(Muu julkaisu)</th>\n",
       "      <td>0.573130</td>\n",
       "      <td>887</td>\n",
       "      <td>0.812999</td>\n",
       "      <td>887</td>\n",
       "      <td>0.645584</td>\n",
       "      <td>887</td>\n",
       "    </tr>\n",
       "    <tr>\n",
       "      <th>Liikunta-ala</th>\n",
       "      <td>0.521739</td>\n",
       "      <td>414</td>\n",
       "      <td>0.906808</td>\n",
       "      <td>414</td>\n",
       "      <td>0.634520</td>\n",
       "      <td>414</td>\n",
       "    </tr>\n",
       "    <tr>\n",
       "      <th>Yhteisöpedagogiikka</th>\n",
       "      <td>0.518868</td>\n",
       "      <td>636</td>\n",
       "      <td>0.866543</td>\n",
       "      <td>636</td>\n",
       "      <td>0.624266</td>\n",
       "      <td>636</td>\n",
       "    </tr>\n",
       "    <tr>\n",
       "      <th>Poliisi</th>\n",
       "      <td>0.500965</td>\n",
       "      <td>622</td>\n",
       "      <td>0.917459</td>\n",
       "      <td>622</td>\n",
       "      <td>0.622143</td>\n",
       "      <td>622</td>\n",
       "    </tr>\n",
       "    <tr>\n",
       "      <th>Fysioterapia</th>\n",
       "      <td>0.508449</td>\n",
       "      <td>793</td>\n",
       "      <td>0.879076</td>\n",
       "      <td>793</td>\n",
       "      <td>0.621499</td>\n",
       "      <td>793</td>\n",
       "    </tr>\n",
       "    <tr>\n",
       "      <th>Muotoilu</th>\n",
       "      <td>0.514618</td>\n",
       "      <td>602</td>\n",
       "      <td>0.854029</td>\n",
       "      <td>602</td>\n",
       "      <td>0.616197</td>\n",
       "      <td>602</td>\n",
       "    </tr>\n",
       "    <tr>\n",
       "      <th>Terveydenhoitotyö</th>\n",
       "      <td>0.500700</td>\n",
       "      <td>1064</td>\n",
       "      <td>0.895799</td>\n",
       "      <td>1064</td>\n",
       "      <td>0.616050</td>\n",
       "      <td>1064</td>\n",
       "    </tr>\n",
       "    <tr>\n",
       "      <th>Hoitotyö</th>\n",
       "      <td>0.485281</td>\n",
       "      <td>3509</td>\n",
       "      <td>0.899074</td>\n",
       "      <td>3509</td>\n",
       "      <td>0.606602</td>\n",
       "      <td>3509</td>\n",
       "    </tr>\n",
       "    <tr>\n",
       "      <th>Majoitus- ja ravitsemisala</th>\n",
       "      <td>0.479258</td>\n",
       "      <td>1051</td>\n",
       "      <td>0.905636</td>\n",
       "      <td>1051</td>\n",
       "      <td>0.603656</td>\n",
       "      <td>1051</td>\n",
       "    </tr>\n",
       "    <tr>\n",
       "      <th>Media-ala</th>\n",
       "      <td>0.500501</td>\n",
       "      <td>798</td>\n",
       "      <td>0.832742</td>\n",
       "      <td>798</td>\n",
       "      <td>0.599889</td>\n",
       "      <td>798</td>\n",
       "    </tr>\n",
       "    <tr>\n",
       "      <th>Matkailu</th>\n",
       "      <td>0.474156</td>\n",
       "      <td>681</td>\n",
       "      <td>0.898642</td>\n",
       "      <td>681</td>\n",
       "      <td>0.597952</td>\n",
       "      <td>681</td>\n",
       "    </tr>\n",
       "    <tr>\n",
       "      <th>Sosiaaliala</th>\n",
       "      <td>0.480475</td>\n",
       "      <td>3878</td>\n",
       "      <td>0.884638</td>\n",
       "      <td>3878</td>\n",
       "      <td>0.597846</td>\n",
       "      <td>3878</td>\n",
       "    </tr>\n",
       "    <tr>\n",
       "      <th>Sosiaali- ja terveysalan johtaminen</th>\n",
       "      <td>0.471452</td>\n",
       "      <td>1262</td>\n",
       "      <td>0.892466</td>\n",
       "      <td>1262</td>\n",
       "      <td>0.592722</td>\n",
       "      <td>1262</td>\n",
       "    </tr>\n",
       "    <tr>\n",
       "      <th>Energia- ja ympäristötekniikka</th>\n",
       "      <td>0.466857</td>\n",
       "      <td>871</td>\n",
       "      <td>0.900091</td>\n",
       "      <td>871</td>\n",
       "      <td>0.589832</td>\n",
       "      <td>871</td>\n",
       "    </tr>\n",
       "    <tr>\n",
       "      <th>Luonnonvara- ja ympäristöala</th>\n",
       "      <td>0.465803</td>\n",
       "      <td>1003</td>\n",
       "      <td>0.889492</td>\n",
       "      <td>1003</td>\n",
       "      <td>0.586798</td>\n",
       "      <td>1003</td>\n",
       "    </tr>\n",
       "    <tr>\n",
       "      <th>Teknologiaosaamisen johtaminen</th>\n",
       "      <td>0.461897</td>\n",
       "      <td>403</td>\n",
       "      <td>0.905923</td>\n",
       "      <td>403</td>\n",
       "      <td>0.583850</td>\n",
       "      <td>403</td>\n",
       "    </tr>\n",
       "    <tr>\n",
       "      <th>Liiketalous, hallinto ja markkinointi</th>\n",
       "      <td>0.454797</td>\n",
       "      <td>9118</td>\n",
       "      <td>0.908565</td>\n",
       "      <td>9118</td>\n",
       "      <td>0.581078</td>\n",
       "      <td>9118</td>\n",
       "    </tr>\n",
       "    <tr>\n",
       "      <th>Rakennusmestarit</th>\n",
       "      <td>0.447659</td>\n",
       "      <td>598</td>\n",
       "      <td>0.923668</td>\n",
       "      <td>598</td>\n",
       "      <td>0.575514</td>\n",
       "      <td>598</td>\n",
       "    </tr>\n",
       "    <tr>\n",
       "      <th>Rakennus- ja yhdyskuntatekniikka</th>\n",
       "      <td>0.445923</td>\n",
       "      <td>1841</td>\n",
       "      <td>0.909763</td>\n",
       "      <td>1841</td>\n",
       "      <td>0.572269</td>\n",
       "      <td>1841</td>\n",
       "    </tr>\n",
       "    <tr>\n",
       "      <th>Sähkötekniikka</th>\n",
       "      <td>0.432256</td>\n",
       "      <td>866</td>\n",
       "      <td>0.920023</td>\n",
       "      <td>866</td>\n",
       "      <td>0.563815</td>\n",
       "      <td>866</td>\n",
       "    </tr>\n",
       "    <tr>\n",
       "      <th>Konetekniikka</th>\n",
       "      <td>0.427016</td>\n",
       "      <td>1497</td>\n",
       "      <td>0.910619</td>\n",
       "      <td>1497</td>\n",
       "      <td>0.555976</td>\n",
       "      <td>1497</td>\n",
       "    </tr>\n",
       "    <tr>\n",
       "      <th>Automaatiotekniikka</th>\n",
       "      <td>0.412635</td>\n",
       "      <td>554</td>\n",
       "      <td>0.891461</td>\n",
       "      <td>554</td>\n",
       "      <td>0.541768</td>\n",
       "      <td>554</td>\n",
       "    </tr>\n",
       "    <tr>\n",
       "      <th>Tietojenkäsittely</th>\n",
       "      <td>0.399592</td>\n",
       "      <td>1744</td>\n",
       "      <td>0.863027</td>\n",
       "      <td>1744</td>\n",
       "      <td>0.523860</td>\n",
       "      <td>1744</td>\n",
       "    </tr>\n",
       "    <tr>\n",
       "      <th>Tieto- ja viestintätekniikka</th>\n",
       "      <td>0.386776</td>\n",
       "      <td>1503</td>\n",
       "      <td>0.851266</td>\n",
       "      <td>1503</td>\n",
       "      <td>0.508174</td>\n",
       "      <td>1503</td>\n",
       "    </tr>\n",
       "  </tbody>\n",
       "</table>\n",
       "</div>"
      ],
      "text/plain": [
       "                                      precision          recall        \\\n",
       "                                           mean count      mean count   \n",
       "degreeprogram                                                           \n",
       "Esittävä taide ja musiikki             0.566667   564  0.857437   564   \n",
       "(Muu julkaisu)                         0.573130   887  0.812999   887   \n",
       "Liikunta-ala                           0.521739   414  0.906808   414   \n",
       "Yhteisöpedagogiikka                    0.518868   636  0.866543   636   \n",
       "Poliisi                                0.500965   622  0.917459   622   \n",
       "Fysioterapia                           0.508449   793  0.879076   793   \n",
       "Muotoilu                               0.514618   602  0.854029   602   \n",
       "Terveydenhoitotyö                      0.500700  1064  0.895799  1064   \n",
       "Hoitotyö                               0.485281  3509  0.899074  3509   \n",
       "Majoitus- ja ravitsemisala             0.479258  1051  0.905636  1051   \n",
       "Media-ala                              0.500501   798  0.832742   798   \n",
       "Matkailu                               0.474156   681  0.898642   681   \n",
       "Sosiaaliala                            0.480475  3878  0.884638  3878   \n",
       "Sosiaali- ja terveysalan johtaminen    0.471452  1262  0.892466  1262   \n",
       "Energia- ja ympäristötekniikka         0.466857   871  0.900091   871   \n",
       "Luonnonvara- ja ympäristöala           0.465803  1003  0.889492  1003   \n",
       "Teknologiaosaamisen johtaminen         0.461897   403  0.905923   403   \n",
       "Liiketalous, hallinto ja markkinointi  0.454797  9118  0.908565  9118   \n",
       "Rakennusmestarit                       0.447659   598  0.923668   598   \n",
       "Rakennus- ja yhdyskuntatekniikka       0.445923  1841  0.909763  1841   \n",
       "Sähkötekniikka                         0.432256   866  0.920023   866   \n",
       "Konetekniikka                          0.427016  1497  0.910619  1497   \n",
       "Automaatiotekniikka                    0.412635   554  0.891461   554   \n",
       "Tietojenkäsittely                      0.399592  1744  0.863027  1744   \n",
       "Tieto- ja viestintätekniikka           0.386776  1503  0.851266  1503   \n",
       "\n",
       "                                       f1 score        \n",
       "                                           mean count  \n",
       "degreeprogram                                          \n",
       "Esittävä taide ja musiikki             0.659676   564  \n",
       "(Muu julkaisu)                         0.645584   887  \n",
       "Liikunta-ala                           0.634520   414  \n",
       "Yhteisöpedagogiikka                    0.624266   636  \n",
       "Poliisi                                0.622143   622  \n",
       "Fysioterapia                           0.621499   793  \n",
       "Muotoilu                               0.616197   602  \n",
       "Terveydenhoitotyö                      0.616050  1064  \n",
       "Hoitotyö                               0.606602  3509  \n",
       "Majoitus- ja ravitsemisala             0.603656  1051  \n",
       "Media-ala                              0.599889   798  \n",
       "Matkailu                               0.597952   681  \n",
       "Sosiaaliala                            0.597846  3878  \n",
       "Sosiaali- ja terveysalan johtaminen    0.592722  1262  \n",
       "Energia- ja ympäristötekniikka         0.589832   871  \n",
       "Luonnonvara- ja ympäristöala           0.586798  1003  \n",
       "Teknologiaosaamisen johtaminen         0.583850   403  \n",
       "Liiketalous, hallinto ja markkinointi  0.581078  9118  \n",
       "Rakennusmestarit                       0.575514   598  \n",
       "Rakennus- ja yhdyskuntatekniikka       0.572269  1841  \n",
       "Sähkötekniikka                         0.563815   866  \n",
       "Konetekniikka                          0.555976  1497  \n",
       "Automaatiotekniikka                    0.541768   554  \n",
       "Tietojenkäsittely                      0.523860  1744  \n",
       "Tieto- ja viestintätekniikka           0.508174  1503  "
      ]
     },
     "execution_count": 17,
     "metadata": {},
     "output_type": "execute_result"
    }
   ],
   "source": [
    "# mean precision, recall, f1 score for each degree program and sort by f1 score\n",
    "df_per_dp = df_fi.groupby(\"degreeprogram\")['precision', 'recall', 'f1 score'].agg(['mean', 'count']).sort_values(by=('f1 score', 'mean'), ascending=False)\n",
    "# rename degree program entries to take only the first part of the name\n",
    "df_per_dp.index = df_per_dp.index.map(lambda x: x.split(\"|\")[0].lstrip(\"fi=\"))\n",
    "\n",
    "# copy to clipboard\n",
    "df_per_dp[df_per_dp.precision['count'] > 400].to_clipboard()\n",
    "df_per_dp[df_per_dp.precision['count'] > 400]"
   ]
  },
  {
   "cell_type": "code",
   "execution_count": 42,
   "metadata": {},
   "outputs": [
    {
     "name": "stderr",
     "output_type": "stream",
     "text": [
      "/tmp/ipykernel_311370/3833675204.py:4: FutureWarning: The pandas.np module is deprecated and will be removed from pandas in a future version. Import numpy directly instead.\n",
      "  plt.xticks(pd.np.arange(0.5, 0.75, 0.05))\n"
     ]
    },
    {
     "data": {
      "image/png": "[encoded data removed]",
      "text/plain": [
       "<Figure size 600x600 with 1 Axes>"
      ]
     },
     "metadata": {},
     "output_type": "display_data"
    }
   ],
   "source": [
    "df_per_dp[df_per_dp.precision['count'] > 500]['f1 score']['mean'].plot.barh(figsize=(6, 6))\n",
    "plt.ylabel(None)\n",
    "plt.xlim(0.5, 0.7)\n",
    "plt.xticks(pd.np.arange(0.5, 0.75, 0.05))\n",
    "plt.xlabel(\"F1-arvo\")\n",
    "plt.grid(axis='x')"
   ]
  }
 ],
 "metadata": {
  "kernelspec": {
   "display_name": "Python 3 (ipykernel)",
   "language": "python",
   "name": "python3"
  },
  "language_info": {
   "codemirror_mode": {
    "name": "ipython",
    "version": 3
   },
   "file_extension": ".py",
   "mimetype": "text/x-python",
   "name": "python",
   "nbconvert_exporter": "python",
   "pygments_lexer": "ipython3",
   "version": "3.8.10"
  },
  "vscode": {
   "interpreter": {
    "hash": "186dc853cf67aa271b9921a97411607eafab6dd5e87641576ef5a5a9e3abec98"
   }
  }
 },
 "nbformat": 4,
 "nbformat_minor": 2
}
